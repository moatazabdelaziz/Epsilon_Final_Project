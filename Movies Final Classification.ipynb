{
 "cells": [
  {
   "cell_type": "code",
   "execution_count": 1,
   "id": "ae5f1fc9-0565-4cc6-9a70-78c1771c6942",
   "metadata": {},
   "outputs": [],
   "source": [
    "# import libraries\n",
    "import numpy as np\n",
    "import pandas as pd\n",
    "import plotly.express as px\n",
    "from sklearn.preprocessing import MultiLabelBinarizer\n",
    "from sklearn.feature_selection import RFE\n",
    "from sklearn.compose import ColumnTransformer\n",
    "from sklearn.pipeline import Pipeline\n",
    "from sklearn.model_selection import cross_validate\n",
    "from sklearn.preprocessing import OneHotEncoder,RobustScaler\n",
    "from category_encoders import BinaryEncoder\n",
    "from sklearn.linear_model import LogisticRegression\n",
    "from sklearn.neighbors import KNeighborsClassifier\n",
    "from sklearn.tree import DecisionTreeClassifier\n",
    "from sklearn.ensemble import RandomForestClassifier\n",
    "from xgboost import XGBClassifier\n",
    "from sklearn.model_selection import GridSearchCV\n",
    "import joblib\n",
    "from warnings import filterwarnings\n",
    "filterwarnings('ignore')"
   ]
  },
  {
   "cell_type": "code",
   "execution_count": 2,
   "id": "5b7f9bea-df23-4ea8-9efc-5faf2e9f65dd",
   "metadata": {},
   "outputs": [
    {
     "data": {
      "text/html": [
       "<div>\n",
       "<style scoped>\n",
       "    .dataframe tbody tr th:only-of-type {\n",
       "        vertical-align: middle;\n",
       "    }\n",
       "\n",
       "    .dataframe tbody tr th {\n",
       "        vertical-align: top;\n",
       "    }\n",
       "\n",
       "    .dataframe thead th {\n",
       "        text-align: right;\n",
       "    }\n",
       "</style>\n",
       "<table border=\"1\" class=\"dataframe\">\n",
       "  <thead>\n",
       "    <tr style=\"text-align: right;\">\n",
       "      <th></th>\n",
       "      <th>rating</th>\n",
       "      <th>genre</th>\n",
       "      <th>year</th>\n",
       "      <th>votes</th>\n",
       "      <th>country</th>\n",
       "      <th>budget</th>\n",
       "      <th>gross</th>\n",
       "      <th>runtime</th>\n",
       "      <th>month</th>\n",
       "      <th>net_profit</th>\n",
       "      <th>target</th>\n",
       "    </tr>\n",
       "  </thead>\n",
       "  <tbody>\n",
       "    <tr>\n",
       "      <th>0</th>\n",
       "      <td>Adults</td>\n",
       "      <td>Drama</td>\n",
       "      <td>1980</td>\n",
       "      <td>927000.0</td>\n",
       "      <td>United Kingdom</td>\n",
       "      <td>19000000.0</td>\n",
       "      <td>46998772.0</td>\n",
       "      <td>146.0</td>\n",
       "      <td>6.0</td>\n",
       "      <td>27998772.0</td>\n",
       "      <td>1</td>\n",
       "    </tr>\n",
       "    <tr>\n",
       "      <th>1</th>\n",
       "      <td>Adults</td>\n",
       "      <td>Adventure</td>\n",
       "      <td>1980</td>\n",
       "      <td>65000.0</td>\n",
       "      <td>United States</td>\n",
       "      <td>4500000.0</td>\n",
       "      <td>58853106.0</td>\n",
       "      <td>104.0</td>\n",
       "      <td>7.0</td>\n",
       "      <td>54353106.0</td>\n",
       "      <td>0</td>\n",
       "    </tr>\n",
       "    <tr>\n",
       "      <th>2</th>\n",
       "      <td>Adults Guidance</td>\n",
       "      <td>Action</td>\n",
       "      <td>1980</td>\n",
       "      <td>1200000.0</td>\n",
       "      <td>United States</td>\n",
       "      <td>18000000.0</td>\n",
       "      <td>538375067.0</td>\n",
       "      <td>124.0</td>\n",
       "      <td>6.0</td>\n",
       "      <td>520375067.0</td>\n",
       "      <td>1</td>\n",
       "    </tr>\n",
       "    <tr>\n",
       "      <th>3</th>\n",
       "      <td>Adults Guidance</td>\n",
       "      <td>Comedy</td>\n",
       "      <td>1980</td>\n",
       "      <td>221000.0</td>\n",
       "      <td>United States</td>\n",
       "      <td>3500000.0</td>\n",
       "      <td>83453539.0</td>\n",
       "      <td>88.0</td>\n",
       "      <td>7.0</td>\n",
       "      <td>79953539.0</td>\n",
       "      <td>1</td>\n",
       "    </tr>\n",
       "    <tr>\n",
       "      <th>4</th>\n",
       "      <td>Adults</td>\n",
       "      <td>Comedy</td>\n",
       "      <td>1980</td>\n",
       "      <td>108000.0</td>\n",
       "      <td>United States</td>\n",
       "      <td>6000000.0</td>\n",
       "      <td>39846344.0</td>\n",
       "      <td>98.0</td>\n",
       "      <td>7.0</td>\n",
       "      <td>33846344.0</td>\n",
       "      <td>1</td>\n",
       "    </tr>\n",
       "    <tr>\n",
       "      <th>...</th>\n",
       "      <td>...</td>\n",
       "      <td>...</td>\n",
       "      <td>...</td>\n",
       "      <td>...</td>\n",
       "      <td>...</td>\n",
       "      <td>...</td>\n",
       "      <td>...</td>\n",
       "      <td>...</td>\n",
       "      <td>...</td>\n",
       "      <td>...</td>\n",
       "      <td>...</td>\n",
       "    </tr>\n",
       "    <tr>\n",
       "      <th>7582</th>\n",
       "      <td>Adults</td>\n",
       "      <td>Crime</td>\n",
       "      <td>2020</td>\n",
       "      <td>2400.0</td>\n",
       "      <td>United States</td>\n",
       "      <td>20500000.0</td>\n",
       "      <td>3661.0</td>\n",
       "      <td>98.0</td>\n",
       "      <td>4.0</td>\n",
       "      <td>-20496339.0</td>\n",
       "      <td>0</td>\n",
       "    </tr>\n",
       "    <tr>\n",
       "      <th>7583</th>\n",
       "      <td>Adults Guidance</td>\n",
       "      <td>Animation</td>\n",
       "      <td>2020</td>\n",
       "      <td>1300.0</td>\n",
       "      <td>Other</td>\n",
       "      <td>20500000.0</td>\n",
       "      <td>240663149.0</td>\n",
       "      <td>110.0</td>\n",
       "      <td>10.0</td>\n",
       "      <td>220163149.0</td>\n",
       "      <td>1</td>\n",
       "    </tr>\n",
       "    <tr>\n",
       "      <th>7584</th>\n",
       "      <td>Adults Guidance</td>\n",
       "      <td>Comedy</td>\n",
       "      <td>2020</td>\n",
       "      <td>294.0</td>\n",
       "      <td>United States</td>\n",
       "      <td>20500000.0</td>\n",
       "      <td>413378.0</td>\n",
       "      <td>120.0</td>\n",
       "      <td>6.0</td>\n",
       "      <td>-20086622.0</td>\n",
       "      <td>0</td>\n",
       "    </tr>\n",
       "    <tr>\n",
       "      <th>7585</th>\n",
       "      <td>Adults</td>\n",
       "      <td>Drama</td>\n",
       "      <td>2020</td>\n",
       "      <td>35.0</td>\n",
       "      <td>United States</td>\n",
       "      <td>5000.0</td>\n",
       "      <td>20205757.0</td>\n",
       "      <td>78.0</td>\n",
       "      <td>2.0</td>\n",
       "      <td>20200757.0</td>\n",
       "      <td>1</td>\n",
       "    </tr>\n",
       "    <tr>\n",
       "      <th>7586</th>\n",
       "      <td>Not Rated</td>\n",
       "      <td>Horror</td>\n",
       "      <td>2020</td>\n",
       "      <td>447.0</td>\n",
       "      <td>United States</td>\n",
       "      <td>20500000.0</td>\n",
       "      <td>13266.0</td>\n",
       "      <td>87.0</td>\n",
       "      <td>3.0</td>\n",
       "      <td>-20486734.0</td>\n",
       "      <td>0</td>\n",
       "    </tr>\n",
       "  </tbody>\n",
       "</table>\n",
       "<p>7587 rows × 11 columns</p>\n",
       "</div>"
      ],
      "text/plain": [
       "               rating      genre  year      votes         country      budget  \\\n",
       "0              Adults      Drama  1980   927000.0  United Kingdom  19000000.0   \n",
       "1              Adults  Adventure  1980    65000.0   United States   4500000.0   \n",
       "2     Adults Guidance     Action  1980  1200000.0   United States  18000000.0   \n",
       "3     Adults Guidance     Comedy  1980   221000.0   United States   3500000.0   \n",
       "4              Adults     Comedy  1980   108000.0   United States   6000000.0   \n",
       "...               ...        ...   ...        ...             ...         ...   \n",
       "7582           Adults      Crime  2020     2400.0   United States  20500000.0   \n",
       "7583  Adults Guidance  Animation  2020     1300.0           Other  20500000.0   \n",
       "7584  Adults Guidance     Comedy  2020      294.0   United States  20500000.0   \n",
       "7585           Adults      Drama  2020       35.0   United States      5000.0   \n",
       "7586        Not Rated     Horror  2020      447.0   United States  20500000.0   \n",
       "\n",
       "            gross  runtime  month   net_profit  target  \n",
       "0      46998772.0    146.0    6.0   27998772.0       1  \n",
       "1      58853106.0    104.0    7.0   54353106.0       0  \n",
       "2     538375067.0    124.0    6.0  520375067.0       1  \n",
       "3      83453539.0     88.0    7.0   79953539.0       1  \n",
       "4      39846344.0     98.0    7.0   33846344.0       1  \n",
       "...           ...      ...    ...          ...     ...  \n",
       "7582       3661.0     98.0    4.0  -20496339.0       0  \n",
       "7583  240663149.0    110.0   10.0  220163149.0       1  \n",
       "7584     413378.0    120.0    6.0  -20086622.0       0  \n",
       "7585   20205757.0     78.0    2.0   20200757.0       1  \n",
       "7586      13266.0     87.0    3.0  -20486734.0       0  \n",
       "\n",
       "[7587 rows x 11 columns]"
      ]
     },
     "execution_count": 2,
     "metadata": {},
     "output_type": "execute_result"
    }
   ],
   "source": [
    "# load data\n",
    "df = pd.read_pickle(\"Movies_After_EDA.pkl\")\n",
    "df"
   ]
  },
  {
   "cell_type": "code",
   "execution_count": 3,
   "id": "ead6d246-4820-43f1-a54d-37866178e2bf",
   "metadata": {},
   "outputs": [
    {
     "data": {
      "text/plain": [
       "rating        0\n",
       "genre         0\n",
       "year          0\n",
       "votes         0\n",
       "country       0\n",
       "budget        0\n",
       "gross         0\n",
       "runtime       0\n",
       "month         0\n",
       "net_profit    0\n",
       "target        0\n",
       "dtype: int64"
      ]
     },
     "execution_count": 3,
     "metadata": {},
     "output_type": "execute_result"
    }
   ],
   "source": [
    "df.isnull().sum()"
   ]
  },
  {
   "cell_type": "code",
   "execution_count": 4,
   "id": "4e3c9a90-1c83-4ad5-8e38-db4610781966",
   "metadata": {},
   "outputs": [],
   "source": [
    "# creating encoder for categorical features using column transformer\n",
    "Encoder = ColumnTransformer(transformers = [(\"OHE\" , OneHotEncoder(sparse = False , drop = \"first\" ) , [\"rating\" , \"country\"]) , (\"BE\" , BinaryEncoder() , [\"genre\"] )] , remainder = \"passthrough\")"
   ]
  },
  {
   "cell_type": "code",
   "execution_count": 5,
   "id": "dfa7fde0-38ed-4041-abdf-09a65ff356f1",
   "metadata": {},
   "outputs": [],
   "source": [
    "# splitting dataframe into feature and target variables\n",
    "x = df.drop([\"target\"],axis=1)\n",
    "y = df['target']"
   ]
  },
  {
   "cell_type": "code",
   "execution_count": 6,
   "id": "f6f9c48b-6b7b-43cc-b335-6dfa7b9cfaba",
   "metadata": {},
   "outputs": [],
   "source": [
    "# Creating a list of classification models for comparison\n",
    "models = list()\n",
    "models.append((\"LR\" , LogisticRegression()))\n",
    "models.append((\"CART\" , DecisionTreeClassifier()))\n",
    "models.append((\"RF\" , RandomForestClassifier()))\n",
    "models.append((\"KNN\" , KNeighborsClassifier()))\n",
    "models.append((\"XG\" , XGBClassifier()))"
   ]
  },
  {
   "cell_type": "code",
   "execution_count": 7,
   "id": "8082cf5d-a2d9-431f-92d4-28be2b57afb7",
   "metadata": {},
   "outputs": [
    {
     "name": "stdout",
     "output_type": "stream",
     "text": [
      "LR\n",
      "Train_accuracy = 0.7513841454791045\n",
      "Test_accuracy = 0.7399503909578142\n",
      "**************************************************\n",
      "CART\n",
      "Train_accuracy = 1.0\n",
      "Test_accuracy = 0.620131873896455\n",
      "**************************************************\n",
      "RF\n",
      "Train_accuracy = 0.9999670510708402\n",
      "Test_accuracy = 0.6648197894221225\n",
      "**************************************************\n",
      "KNN\n",
      "Train_accuracy = 0.8254581157979229\n",
      "Test_accuracy = 0.7229517380100624\n",
      "**************************************************\n",
      "XG\n",
      "Train_accuracy = 0.9701793623738866\n",
      "Test_accuracy = 0.5008450559882162\n",
      "**************************************************\n"
     ]
    }
   ],
   "source": [
    "# comparing the performance of different machine learning models using cross-validation and pipeline without feature selection\n",
    "for model in models:\n",
    "    steps = []\n",
    "    steps.append((\"Encoder\" , Encoder))\n",
    "    steps.append((\"Scaler\" , RobustScaler()))\n",
    "    steps.append(model)\n",
    "    pipeline = Pipeline(steps = steps)\n",
    "    scores = cross_validate(pipeline , x , y , cv = 5 , scoring = \"accuracy\" , return_train_score = True)\n",
    "    print(model[0])\n",
    "    print(\"Train_accuracy =\" , scores[\"train_score\"].mean())\n",
    "    print(\"Test_accuracy =\" , scores[\"test_score\"].mean())\n",
    "    print(\"*\" * 50)   "
   ]
  },
  {
   "cell_type": "code",
   "execution_count": 8,
   "id": "59bf1dad-62f0-4b8e-ae8b-157c58012e79",
   "metadata": {},
   "outputs": [],
   "source": [
    "RFE_selector = RFE(LogisticRegression(), n_features_to_select = 9)"
   ]
  },
  {
   "cell_type": "code",
   "execution_count": 9,
   "id": "f890ceb4-e600-46a1-83f8-84f1847b807e",
   "metadata": {},
   "outputs": [
    {
     "name": "stdout",
     "output_type": "stream",
     "text": [
      "LR\n",
      "Train_accuracy = 0.746672155440333\n",
      "Test_accuracy = 0.7374487473108894\n",
      "CART\n",
      "Train_accuracy = 0.9960129732676093\n",
      "Test_accuracy = 0.685249126500452\n",
      "RF\n",
      "Train_accuracy = 0.9959800189093955\n",
      "Test_accuracy = 0.7349418057795576\n",
      "KNN\n",
      "Train_accuracy = 0.8160671552272426\n",
      "Test_accuracy = 0.7255856550660368\n",
      "XG\n",
      "Train_accuracy = 0.8759064497976727\n",
      "Test_accuracy = 0.752207524211766\n"
     ]
    }
   ],
   "source": [
    "# comparing the performance of different machine learning models using cross-validation and pipeline with feature selection\n",
    "for model in models:\n",
    "    steps = []\n",
    "    steps.append((\"Encoder\", Encoder))\n",
    "    steps.append((\"Scaler\", RobustScaler()))\n",
    "    steps.append((\"FeatureSelection\", RFE_selector))\n",
    "    steps.append(model)\n",
    "    pipeline = Pipeline(steps=steps)\n",
    "    scores = cross_validate(pipeline, x, y, cv=5, scoring=\"accuracy\", return_train_score=True)\n",
    "    print(model[0])\n",
    "    print(\"Train_accuracy =\", scores[\"train_score\"].mean())\n",
    "    print(\"Test_accuracy =\", scores[\"test_score\"].mean())"
   ]
  },
  {
   "cell_type": "code",
   "execution_count": 10,
   "id": "3852cba7-c610-4837-b3c3-99b24f9c380c",
   "metadata": {},
   "outputs": [],
   "source": [
    "params = {\n",
    "    'LR__C': [ 1, 10 , 100],\n",
    "    'LR__penalty': ['l2'],\n",
    "    'LR__solver': ['liblinear', 'lbfgs', 'saga'],\n",
    "    'LR__class_weight': [None ,'balanced'],\n",
    "    'LR__max_iter': [90, 100, 120]\n",
    "}"
   ]
  },
  {
   "cell_type": "code",
   "execution_count": 11,
   "id": "5bc21eb6-beb9-4ff0-8c1c-cd6aa74c03b0",
   "metadata": {},
   "outputs": [],
   "source": [
    "# pipeline for classification using logistic regression, feature encoding using encoder created before, scaling using robust scaler\n",
    "steps = []\n",
    "steps.append((\"Encoder\" , Encoder))\n",
    "steps.append((\"Scaler\" , RobustScaler()))\n",
    "steps.append((\"FeatureSelection\", RFE_selector))\n",
    "steps.append((\"LR\" , LogisticRegression()))\n",
    "pipeline = Pipeline(steps = steps)"
   ]
  },
  {
   "cell_type": "code",
   "execution_count": 12,
   "id": "288859df-50b0-4dfd-ab76-61b7923d1aaa",
   "metadata": {},
   "outputs": [],
   "source": [
    "# performing grid search cross-validation\n",
    "grid_search = GridSearchCV(param_grid = params , estimator = pipeline , cv = 5 , scoring = \"accuracy\" , return_train_score = True , n_jobs = -1)"
   ]
  },
  {
   "cell_type": "code",
   "execution_count": 13,
   "id": "767d6bd0-6c7b-4dc8-9290-c1d1db535687",
   "metadata": {
    "scrolled": true
   },
   "outputs": [
    {
     "data": {
      "text/plain": [
       "GridSearchCV(cv=5,\n",
       "             estimator=Pipeline(steps=[('Encoder',\n",
       "                                        ColumnTransformer(remainder='passthrough',\n",
       "                                                          transformers=[('OHE',\n",
       "                                                                         OneHotEncoder(drop='first',\n",
       "                                                                                       sparse=False),\n",
       "                                                                         ['rating',\n",
       "                                                                          'country']),\n",
       "                                                                        ('BE',\n",
       "                                                                         BinaryEncoder(),\n",
       "                                                                         ['genre'])])),\n",
       "                                       ('Scaler', RobustScaler()),\n",
       "                                       ('FeatureSelection',\n",
       "                                        RFE(estimator=LogisticRegression(),\n",
       "                                            n_features_to_select=9)),\n",
       "                                       ('LR', LogisticRegression())]),\n",
       "             n_jobs=-1,\n",
       "             param_grid={'LR__C': [1, 10, 100],\n",
       "                         'LR__class_weight': [None, 'balanced'],\n",
       "                         'LR__max_iter': [90, 100, 120], 'LR__penalty': ['l2'],\n",
       "                         'LR__solver': ['liblinear', 'lbfgs', 'saga']},\n",
       "             return_train_score=True, scoring='accuracy')"
      ]
     },
     "execution_count": 13,
     "metadata": {},
     "output_type": "execute_result"
    }
   ],
   "source": [
    "grid_search.fit(x,y)"
   ]
  },
  {
   "cell_type": "code",
   "execution_count": 14,
   "id": "d414c199-a70a-4fa0-b666-a173a097cb86",
   "metadata": {},
   "outputs": [
    {
     "name": "stdout",
     "output_type": "stream",
     "text": [
      "Best hyperparameters:  {'LR__C': 1, 'LR__class_weight': 'balanced', 'LR__max_iter': 90, 'LR__penalty': 'l2', 'LR__solver': 'liblinear'}\n",
      "Mean train score:  0.7466519714237515\n",
      "Mean test score:  0.7388625972931381\n"
     ]
    }
   ],
   "source": [
    "print(\"Best hyperparameters: \", grid_search.best_params_)\n",
    "print(\"Mean train score: \", grid_search.cv_results_[\"mean_train_score\"].mean())\n",
    "print(\"Mean test score: \", grid_search.cv_results_[\"mean_test_score\"].mean())"
   ]
  },
  {
   "cell_type": "code",
   "execution_count": 15,
   "id": "db40c47c-b26d-48aa-8d4d-4617db306770",
   "metadata": {},
   "outputs": [],
   "source": [
    "final_model = grid_search.best_estimator_"
   ]
  },
  {
   "cell_type": "code",
   "execution_count": 16,
   "id": "63da87b4-f06a-41a8-b6c1-55642e10e6ce",
   "metadata": {},
   "outputs": [
    {
     "data": {
      "text/plain": [
       "['input_features.pkl']"
      ]
     },
     "execution_count": 16,
     "metadata": {},
     "output_type": "execute_result"
    }
   ],
   "source": [
    "joblib.dump(final_model , \"best_model.pkl\")\n",
    "joblib.dump(x.columns , \"input_features.pkl\")"
   ]
  },
  {
   "cell_type": "code",
   "execution_count": 17,
   "id": "caff293a-2bc5-4e0a-8637-88d57e620b49",
   "metadata": {},
   "outputs": [
    {
     "data": {
      "text/plain": [
       "count    7587.000000\n",
       "mean        6.578490\n",
       "std         3.439163\n",
       "min         1.000000\n",
       "25%         4.000000\n",
       "50%         7.000000\n",
       "75%        10.000000\n",
       "max        12.000000\n",
       "Name: month, dtype: float64"
      ]
     },
     "execution_count": 17,
     "metadata": {},
     "output_type": "execute_result"
    }
   ],
   "source": [
    "x.month.describe()"
   ]
  },
  {
   "cell_type": "code",
   "execution_count": 18,
   "id": "66756fa0-2fb5-4d8b-9cab-8097b83cb70f",
   "metadata": {},
   "outputs": [
    {
     "name": "stdout",
     "output_type": "stream",
     "text": [
      "Overwriting streamlit_app.py\n"
     ]
    }
   ],
   "source": [
    "%%writefile streamlit_app.py    \n",
    "\n",
    "# importing libraries\n",
    "import streamlit as st\n",
    "import pandas as pd \n",
    "import joblib\n",
    "import sklearn\n",
    "import xgboost\n",
    "import category_encoders\n",
    "\n",
    "# loading saved input features and model\n",
    "Inputs = joblib.load(\"input_features.pkl\")\n",
    "Model = joblib.load(\"best_model.pkl\")\n",
    "\n",
    "# function to make predictions\n",
    "def prediction(rating, genre, year, month, votes, country, budget, gross, runtime):\n",
    "    # creating a test dataframe with the required columns\n",
    "    test_df = pd.DataFrame(columns = Inputs)\n",
    "    # assigning input values to the respective columns\n",
    "    test_df.at[0 , \"rating\"] = rating\n",
    "    test_df.at[0 , \"genre\"] = genre\n",
    "    test_df.at[0,\"year\"] = year\n",
    "    test_df.at[0 , \"month\"] = month\n",
    "    test_df.at[0 , \"votes\"] = votes\n",
    "    test_df.at[0 , \"country\"] = country\n",
    "    test_df.at[0 , \"budget\"] = budget\n",
    "    test_df.at[0 , \"gross\"] = gross\n",
    "    test_df.at[0 , \"runtime\"] = runtime\n",
    "    # displaying the test dataframe\n",
    "    st.dataframe(test_df)\n",
    "    # making prediction using the loaded model\n",
    "    result = Model.predict(test_df)[0]\n",
    "    return result\n",
    "\n",
    "# main function to create the Streamlit app\n",
    "def main():\n",
    "    # setting the app title\n",
    "    st.title(\"Movie Success Predictor\")\n",
    "    # creating input widgets for user input\n",
    "    rating = st.radio(\"Rating\" , ['Adults', 'Adults Guidance', 'All Audiance', 'Not Rated'])\n",
    "    genre = st.multiselect(\"Genre\" , ['Drama', 'Adventure', 'Action', 'Comedy', 'Horror', 'Biography',\n",
    "       'Crime', 'Other', 'Animation'])\n",
    "    votes = st.slider(\"Votes\" , min_value = 0.0 , max_value = 2400000.0 , value = 0.0 ,step = 100.0)\n",
    "    year = st.slider(\"Year\" , min_value = 1980 , max_value = 2020 , value = 0 ,step = 1)\n",
    "    month = st.slider(\"Month\" , min_value = 1 , max_value = 12 , value = 0 ,step = 1)\n",
    "    country = st.selectbox(\"Country\" ,['United Kingdom', 'United States', 'Other', 'Canada', 'France',\n",
    "       'Germany'] )\n",
    "    budget = st.slider( \"Budget\" , min_value = 3000.0 , max_value = 356000000.0 , value = 0.0 , step = 1000.0)\n",
    "    gross = st.slider( \"Gross\" , min_value = 309.0 , max_value = 356000000.0 , value = 0.0 , step = 1000.0)\n",
    "    runtime = st.slider( \"Runtime\" , min_value = 63.0 , max_value = 366.0 , value = 0.0 , step = 5.0)\n",
    "    # predict button\n",
    "    if st.button(\"Predict\"):\n",
    "        # calling the prediction function with user inputs\n",
    "        results = prediction(rating, genre, year, month,  votes, country, budget, gross, runtime)\n",
    "        label = [\"Unsuccessful\" , \"Successful\"]\n",
    "        st.text(f\"The Movie will be {label[results]}.\")\n",
    "        \n",
    "if __name__ == '__main__':\n",
    "    main()    \n",
    "    "
   ]
  },
  {
   "cell_type": "code",
   "execution_count": null,
   "id": "b71e2f1e-73e9-4613-8ceb-169a20d2a752",
   "metadata": {},
   "outputs": [],
   "source": [
    "!streamlit run streamlit_app.py"
   ]
  },
  {
   "cell_type": "code",
   "execution_count": null,
   "id": "11707ca0-edbc-49e1-970e-f32263c6fa0a",
   "metadata": {},
   "outputs": [],
   "source": []
  }
 ],
 "metadata": {
  "kernelspec": {
   "display_name": "Python 3 (ipykernel)",
   "language": "python",
   "name": "python3"
  },
  "language_info": {
   "codemirror_mode": {
    "name": "ipython",
    "version": 3
   },
   "file_extension": ".py",
   "mimetype": "text/x-python",
   "name": "python",
   "nbconvert_exporter": "python",
   "pygments_lexer": "ipython3",
   "version": "3.9.15"
  }
 },
 "nbformat": 4,
 "nbformat_minor": 5
}
