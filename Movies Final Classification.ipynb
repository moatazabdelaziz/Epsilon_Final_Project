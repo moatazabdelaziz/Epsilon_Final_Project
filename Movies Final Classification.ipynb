{
 "cells": [
  {
   "cell_type": "markdown",
   "id": "844aa075-ae9a-477a-b136-0066c78005e4",
   "metadata": {},
   "source": [
    "# <center><b>Movies Success Prediction</b></center>"
   ]
  },
  {
   "cell_type": "code",
   "execution_count": 2,
   "id": "ae5f1fc9-0565-4cc6-9a70-78c1771c6942",
   "metadata": {},
   "outputs": [],
   "source": [
    "# import libraries\n",
    "import numpy as np\n",
    "import pandas as pd\n",
    "import plotly.express as px\n",
    "from sklearn.feature_selection import RFE\n",
    "from sklearn.compose import ColumnTransformer\n",
    "from sklearn.pipeline import Pipeline\n",
    "from sklearn.model_selection import cross_validate\n",
    "from sklearn.preprocessing import OneHotEncoder,RobustScaler\n",
    "from category_encoders import BinaryEncoder\n",
    "from sklearn.linear_model import LogisticRegression\n",
    "from sklearn.neighbors import KNeighborsClassifier\n",
    "from sklearn.tree import DecisionTreeClassifier\n",
    "from sklearn.ensemble import RandomForestClassifier\n",
    "from xgboost import XGBClassifier\n",
    "from sklearn.metrics import f1_score, roc_curve, auc\n",
    "from sklearn.model_selection import cross_val_predict\n",
    "from sklearn.model_selection import GridSearchCV\n",
    "import joblib\n",
    "from warnings import filterwarnings\n",
    "filterwarnings('ignore')"
   ]
  },
  {
   "cell_type": "code",
   "execution_count": 3,
   "id": "5b7f9bea-df23-4ea8-9efc-5faf2e9f65dd",
   "metadata": {},
   "outputs": [
    {
     "data": {
      "text/html": [
       "<div>\n",
       "<style scoped>\n",
       "    .dataframe tbody tr th:only-of-type {\n",
       "        vertical-align: middle;\n",
       "    }\n",
       "\n",
       "    .dataframe tbody tr th {\n",
       "        vertical-align: top;\n",
       "    }\n",
       "\n",
       "    .dataframe thead th {\n",
       "        text-align: right;\n",
       "    }\n",
       "</style>\n",
       "<table border=\"1\" class=\"dataframe\">\n",
       "  <thead>\n",
       "    <tr style=\"text-align: right;\">\n",
       "      <th></th>\n",
       "      <th>rating</th>\n",
       "      <th>genre</th>\n",
       "      <th>year</th>\n",
       "      <th>votes</th>\n",
       "      <th>country</th>\n",
       "      <th>budget</th>\n",
       "      <th>gross</th>\n",
       "      <th>runtime</th>\n",
       "      <th>month</th>\n",
       "      <th>net_profit</th>\n",
       "      <th>target</th>\n",
       "    </tr>\n",
       "  </thead>\n",
       "  <tbody>\n",
       "    <tr>\n",
       "      <th>0</th>\n",
       "      <td>Adults</td>\n",
       "      <td>Drama</td>\n",
       "      <td>1980</td>\n",
       "      <td>927000</td>\n",
       "      <td>United Kingdom</td>\n",
       "      <td>19000000</td>\n",
       "      <td>46998772</td>\n",
       "      <td>146</td>\n",
       "      <td>6</td>\n",
       "      <td>27998772</td>\n",
       "      <td>1</td>\n",
       "    </tr>\n",
       "    <tr>\n",
       "      <th>1</th>\n",
       "      <td>Adults</td>\n",
       "      <td>Adventure</td>\n",
       "      <td>1980</td>\n",
       "      <td>65000</td>\n",
       "      <td>United States</td>\n",
       "      <td>4500000</td>\n",
       "      <td>58853106</td>\n",
       "      <td>104</td>\n",
       "      <td>7</td>\n",
       "      <td>54353106</td>\n",
       "      <td>0</td>\n",
       "    </tr>\n",
       "    <tr>\n",
       "      <th>2</th>\n",
       "      <td>Adults Guidance</td>\n",
       "      <td>Action</td>\n",
       "      <td>1980</td>\n",
       "      <td>1200000</td>\n",
       "      <td>United States</td>\n",
       "      <td>18000000</td>\n",
       "      <td>538375067</td>\n",
       "      <td>124</td>\n",
       "      <td>6</td>\n",
       "      <td>520375067</td>\n",
       "      <td>1</td>\n",
       "    </tr>\n",
       "    <tr>\n",
       "      <th>3</th>\n",
       "      <td>Adults Guidance</td>\n",
       "      <td>Comedy</td>\n",
       "      <td>1980</td>\n",
       "      <td>221000</td>\n",
       "      <td>United States</td>\n",
       "      <td>3500000</td>\n",
       "      <td>83453539</td>\n",
       "      <td>88</td>\n",
       "      <td>7</td>\n",
       "      <td>79953539</td>\n",
       "      <td>1</td>\n",
       "    </tr>\n",
       "    <tr>\n",
       "      <th>4</th>\n",
       "      <td>Adults</td>\n",
       "      <td>Comedy</td>\n",
       "      <td>1980</td>\n",
       "      <td>108000</td>\n",
       "      <td>United States</td>\n",
       "      <td>6000000</td>\n",
       "      <td>39846344</td>\n",
       "      <td>98</td>\n",
       "      <td>7</td>\n",
       "      <td>33846344</td>\n",
       "      <td>1</td>\n",
       "    </tr>\n",
       "    <tr>\n",
       "      <th>...</th>\n",
       "      <td>...</td>\n",
       "      <td>...</td>\n",
       "      <td>...</td>\n",
       "      <td>...</td>\n",
       "      <td>...</td>\n",
       "      <td>...</td>\n",
       "      <td>...</td>\n",
       "      <td>...</td>\n",
       "      <td>...</td>\n",
       "      <td>...</td>\n",
       "      <td>...</td>\n",
       "    </tr>\n",
       "    <tr>\n",
       "      <th>7583</th>\n",
       "      <td>Adults</td>\n",
       "      <td>Crime</td>\n",
       "      <td>2020</td>\n",
       "      <td>2400</td>\n",
       "      <td>United States</td>\n",
       "      <td>20500000</td>\n",
       "      <td>3661</td>\n",
       "      <td>98</td>\n",
       "      <td>4</td>\n",
       "      <td>-20496339</td>\n",
       "      <td>0</td>\n",
       "    </tr>\n",
       "    <tr>\n",
       "      <th>7584</th>\n",
       "      <td>Adults Guidance</td>\n",
       "      <td>Animation</td>\n",
       "      <td>2020</td>\n",
       "      <td>1300</td>\n",
       "      <td>Other</td>\n",
       "      <td>20500000</td>\n",
       "      <td>240663149</td>\n",
       "      <td>110</td>\n",
       "      <td>10</td>\n",
       "      <td>220163149</td>\n",
       "      <td>1</td>\n",
       "    </tr>\n",
       "    <tr>\n",
       "      <th>7585</th>\n",
       "      <td>Adults Guidance</td>\n",
       "      <td>Comedy</td>\n",
       "      <td>2020</td>\n",
       "      <td>294</td>\n",
       "      <td>United States</td>\n",
       "      <td>20500000</td>\n",
       "      <td>413378</td>\n",
       "      <td>120</td>\n",
       "      <td>6</td>\n",
       "      <td>-20086622</td>\n",
       "      <td>0</td>\n",
       "    </tr>\n",
       "    <tr>\n",
       "      <th>7586</th>\n",
       "      <td>Adults</td>\n",
       "      <td>Drama</td>\n",
       "      <td>2020</td>\n",
       "      <td>35</td>\n",
       "      <td>United States</td>\n",
       "      <td>5000</td>\n",
       "      <td>20205757</td>\n",
       "      <td>78</td>\n",
       "      <td>2</td>\n",
       "      <td>20200757</td>\n",
       "      <td>1</td>\n",
       "    </tr>\n",
       "    <tr>\n",
       "      <th>7587</th>\n",
       "      <td>Not Rated</td>\n",
       "      <td>Horror</td>\n",
       "      <td>2020</td>\n",
       "      <td>447</td>\n",
       "      <td>United States</td>\n",
       "      <td>20500000</td>\n",
       "      <td>13266</td>\n",
       "      <td>87</td>\n",
       "      <td>3</td>\n",
       "      <td>-20486734</td>\n",
       "      <td>0</td>\n",
       "    </tr>\n",
       "  </tbody>\n",
       "</table>\n",
       "<p>7588 rows × 11 columns</p>\n",
       "</div>"
      ],
      "text/plain": [
       "               rating      genre  year    votes         country    budget  \\\n",
       "0              Adults      Drama  1980   927000  United Kingdom  19000000   \n",
       "1              Adults  Adventure  1980    65000   United States   4500000   \n",
       "2     Adults Guidance     Action  1980  1200000   United States  18000000   \n",
       "3     Adults Guidance     Comedy  1980   221000   United States   3500000   \n",
       "4              Adults     Comedy  1980   108000   United States   6000000   \n",
       "...               ...        ...   ...      ...             ...       ...   \n",
       "7583           Adults      Crime  2020     2400   United States  20500000   \n",
       "7584  Adults Guidance  Animation  2020     1300           Other  20500000   \n",
       "7585  Adults Guidance     Comedy  2020      294   United States  20500000   \n",
       "7586           Adults      Drama  2020       35   United States      5000   \n",
       "7587        Not Rated     Horror  2020      447   United States  20500000   \n",
       "\n",
       "          gross  runtime  month  net_profit  target  \n",
       "0      46998772      146      6    27998772       1  \n",
       "1      58853106      104      7    54353106       0  \n",
       "2     538375067      124      6   520375067       1  \n",
       "3      83453539       88      7    79953539       1  \n",
       "4      39846344       98      7    33846344       1  \n",
       "...         ...      ...    ...         ...     ...  \n",
       "7583       3661       98      4   -20496339       0  \n",
       "7584  240663149      110     10   220163149       1  \n",
       "7585     413378      120      6   -20086622       0  \n",
       "7586   20205757       78      2    20200757       1  \n",
       "7587      13266       87      3   -20486734       0  \n",
       "\n",
       "[7588 rows x 11 columns]"
      ]
     },
     "execution_count": 3,
     "metadata": {},
     "output_type": "execute_result"
    }
   ],
   "source": [
    "# load data\n",
    "df = pd.read_pickle(\"Movies_After_EDA.pkl\")\n",
    "df"
   ]
  },
  {
   "cell_type": "code",
   "execution_count": 4,
   "id": "ead6d246-4820-43f1-a54d-37866178e2bf",
   "metadata": {},
   "outputs": [
    {
     "name": "stdout",
     "output_type": "stream",
     "text": [
      "<class 'pandas.core.frame.DataFrame'>\n",
      "RangeIndex: 7588 entries, 0 to 7587\n",
      "Data columns (total 11 columns):\n",
      " #   Column      Non-Null Count  Dtype \n",
      "---  ------      --------------  ----- \n",
      " 0   rating      7588 non-null   object\n",
      " 1   genre       7588 non-null   object\n",
      " 2   year        7588 non-null   int64 \n",
      " 3   votes       7588 non-null   int32 \n",
      " 4   country     7588 non-null   object\n",
      " 5   budget      7588 non-null   int32 \n",
      " 6   gross       7588 non-null   int32 \n",
      " 7   runtime     7588 non-null   int32 \n",
      " 8   month       7588 non-null   int32 \n",
      " 9   net_profit  7588 non-null   int32 \n",
      " 10  target      7588 non-null   int64 \n",
      "dtypes: int32(6), int64(2), object(3)\n",
      "memory usage: 474.4+ KB\n"
     ]
    }
   ],
   "source": [
    "df.info()"
   ]
  },
  {
   "cell_type": "code",
   "execution_count": 5,
   "id": "4e3c9a90-1c83-4ad5-8e38-db4610781966",
   "metadata": {},
   "outputs": [],
   "source": [
    "# creating encoder for categorical features using column transformer\n",
    "Encoder = ColumnTransformer(transformers = [(\"OHE\" , OneHotEncoder(sparse = False , drop = \"first\" ) , [\"rating\" , \"country\"]) , (\"BE\" , BinaryEncoder() , [\"genre\"] )] , remainder = \"passthrough\")"
   ]
  },
  {
   "cell_type": "code",
   "execution_count": 6,
   "id": "dfa7fde0-38ed-4041-abdf-09a65ff356f1",
   "metadata": {},
   "outputs": [],
   "source": [
    "# splitting dataframe into feature and target variables\n",
    "x = df.drop([\"target\"],axis=1)\n",
    "y = df['target']"
   ]
  },
  {
   "cell_type": "code",
   "execution_count": 7,
   "id": "f6f9c48b-6b7b-43cc-b335-6dfa7b9cfaba",
   "metadata": {},
   "outputs": [],
   "source": [
    "# Creating a list of classification models for comparison\n",
    "models = list()\n",
    "models.append((\"LR\" , LogisticRegression()))\n",
    "models.append((\"CART\" , DecisionTreeClassifier()))\n",
    "models.append((\"RF\" , RandomForestClassifier()))\n",
    "models.append((\"KNN\" , KNeighborsClassifier()))\n",
    "models.append((\"XG\" , XGBClassifier()))"
   ]
  },
  {
   "cell_type": "code",
   "execution_count": 8,
   "id": "8082cf5d-a2d9-431f-92d4-28be2b57afb7",
   "metadata": {},
   "outputs": [
    {
     "name": "stdout",
     "output_type": "stream",
     "text": [
      "LR\n",
      "Train_accuracy = 0.7515154363643617\n",
      "Test_accuracy = 0.7394543005359548\n",
      "**************************************************\n",
      "CART\n",
      "Train_accuracy = 1.0\n",
      "Test_accuracy = 0.6226910994673455\n",
      "**************************************************\n",
      "RF\n",
      "Train_accuracy = 1.0\n",
      "Test_accuracy = 0.6614323568724416\n",
      "**************************************************\n",
      "KNN\n",
      "Train_accuracy = 0.8254480085598832\n",
      "Test_accuracy = 0.7233814746009868\n",
      "**************************************************\n",
      "XG\n",
      "Train_accuracy = 0.9689313686993856\n",
      "Test_accuracy = 0.49354144465491234\n",
      "**************************************************\n"
     ]
    }
   ],
   "source": [
    "# comparing the performance of different machine learning models using cross-validation and pipeline without feature selection\n",
    "for model in models:\n",
    "    steps = []\n",
    "    steps.append((\"Encoder\" , Encoder))\n",
    "    steps.append((\"Scaler\" , RobustScaler()))\n",
    "    steps.append(model)\n",
    "    pipeline = Pipeline(steps = steps)\n",
    "    scores = cross_validate(pipeline , x , y , cv = 5 , scoring = \"accuracy\" , return_train_score = True)\n",
    "    print(model[0])\n",
    "    print(\"Train_accuracy =\" , scores[\"train_score\"].mean())\n",
    "    print(\"Test_accuracy =\" , scores[\"test_score\"].mean())\n",
    "    print(\"*\" * 50)   "
   ]
  },
  {
   "cell_type": "code",
   "execution_count": 9,
   "id": "59bf1dad-62f0-4b8e-ae8b-157c58012e79",
   "metadata": {},
   "outputs": [],
   "source": [
    "# now i will apply feature selection\n",
    "RFE_selector = RFE(LogisticRegression(), n_features_to_select = 9)"
   ]
  },
  {
   "cell_type": "code",
   "execution_count": 10,
   "id": "f890ceb4-e600-46a1-83f8-84f1847b807e",
   "metadata": {},
   "outputs": [
    {
     "name": "stdout",
     "output_type": "stream",
     "text": [
      "LR\n",
      "Train accuracy = 0.7466392879210506\n",
      "Test accuracy = 0.7374798398128196\n",
      "Test F1-score = 0.6807621796152736\n",
      "AUC score =  0.8268882569421496\n",
      "**************************************************\n",
      "CART\n",
      "Train accuracy = 0.9960135052075969\n",
      "Test accuracy = 0.6889798793298263\n",
      "Test F1-score = 0.6553354968141772\n",
      "AUC score =  0.6860077695933338\n",
      "**************************************************\n",
      "RF\n",
      "Train accuracy = 0.9960135052075969\n",
      "Test accuracy = 0.735633831073916\n",
      "Test F1-score = 0.7031401748008472\n",
      "AUC score =  0.8161093893937942\n",
      "**************************************************\n",
      "KNN\n",
      "Train accuracy = 0.8160252498102493\n",
      "Test accuracy = 0.7260121781860912\n",
      "Test F1-score = 0.690782003418611\n",
      "AUC score =  0.7894881649113745\n",
      "**************************************************\n",
      "XG\n",
      "Train accuracy = 0.8768451685260932\n",
      "Test accuracy = 0.7493363314148043\n",
      "Test F1-score = 0.7147477636994486\n",
      "AUC score =  0.8332573466383556\n",
      "**************************************************\n"
     ]
    }
   ],
   "source": [
    "# comparing the performance of different machine learning models using cross-validation and pipeline with feature selection\n",
    "for model in models:\n",
    "    steps = []\n",
    "    steps.append((\"Encoder\", Encoder))\n",
    "    steps.append((\"Scaler\", RobustScaler()))\n",
    "    steps.append((\"FeatureSelection\", RFE_selector))\n",
    "    steps.append(model)\n",
    "    pipeline = Pipeline(steps=steps)\n",
    "    scores = cross_validate(pipeline, x, y, cv = 5, scoring = [\"roc_auc\",\"accuracy\",\"f1\"] , return_train_score = True)\n",
    "    print(model[0])\n",
    "    print(\"Train accuracy =\", scores[\"train_accuracy\"].mean())\n",
    "    print(\"Test accuracy =\", scores[\"test_accuracy\"].mean())\n",
    "    print(\"Test F1-score =\", scores[\"test_f1\"].mean())\n",
    "    print (\"AUC score = \", scores['test_roc_auc'].mean())\n",
    "    print(\"*\" * 50)"
   ]
  },
  {
   "cell_type": "code",
   "execution_count": 12,
   "id": "3852cba7-c610-4837-b3c3-99b24f9c380c",
   "metadata": {},
   "outputs": [],
   "source": [
    "# defining hyper parameters for tuning\n",
    "params = {\n",
    "    'LR__C': [1, 10 , 100],\n",
    "    'LR__penalty': ['l2'],\n",
    "    'LR__solver': ['liblinear', 'lbfgs', 'saga'],\n",
    "    'LR__class_weight': [None, 'balanced'],\n",
    "    'LR__max_iter': [90, 100, 120]\n",
    "}"
   ]
  },
  {
   "cell_type": "code",
   "execution_count": 13,
   "id": "5bc21eb6-beb9-4ff0-8c1c-cd6aa74c03b0",
   "metadata": {},
   "outputs": [],
   "source": [
    "# pipeline for classification using logistic regression, feature encoding using encoder created before, scaling using robust scaler\n",
    "steps = []\n",
    "steps.append((\"Encoder\" , Encoder))\n",
    "steps.append((\"Scaler\" , RobustScaler()))\n",
    "steps.append((\"FeatureSelection\", RFE_selector))\n",
    "steps.append((\"LR\" , LogisticRegression()))\n",
    "pipeline = Pipeline(steps = steps)"
   ]
  },
  {
   "cell_type": "code",
   "execution_count": 14,
   "id": "288859df-50b0-4dfd-ab76-61b7923d1aaa",
   "metadata": {},
   "outputs": [],
   "source": [
    "# performing grid search cross-validation\n",
    "grid_search = GridSearchCV(param_grid = params , estimator = pipeline , cv = 5 , scoring = \"accuracy\"  , return_train_score = True , n_jobs = -1)"
   ]
  },
  {
   "cell_type": "code",
   "execution_count": 15,
   "id": "767d6bd0-6c7b-4dc8-9290-c1d1db535687",
   "metadata": {
    "scrolled": true
   },
   "outputs": [
    {
     "data": {
      "text/plain": [
       "GridSearchCV(cv=5,\n",
       "             estimator=Pipeline(steps=[('Encoder',\n",
       "                                        ColumnTransformer(remainder='passthrough',\n",
       "                                                          transformers=[('OHE',\n",
       "                                                                         OneHotEncoder(drop='first',\n",
       "                                                                                       sparse=False),\n",
       "                                                                         ['rating',\n",
       "                                                                          'country']),\n",
       "                                                                        ('BE',\n",
       "                                                                         BinaryEncoder(),\n",
       "                                                                         ['genre'])])),\n",
       "                                       ('Scaler', RobustScaler()),\n",
       "                                       ('FeatureSelection',\n",
       "                                        RFE(estimator=LogisticRegression(),\n",
       "                                            n_features_to_select=9)),\n",
       "                                       ('LR', LogisticRegression())]),\n",
       "             n_jobs=-1,\n",
       "             param_grid={'LR__C': [1, 10, 100],\n",
       "                         'LR__class_weight': [None, 'balanced'],\n",
       "                         'LR__max_iter': [90, 100, 120], 'LR__penalty': ['l2'],\n",
       "                         'LR__solver': ['liblinear', 'lbfgs', 'saga']},\n",
       "             return_train_score=True, scoring='accuracy')"
      ]
     },
     "execution_count": 15,
     "metadata": {},
     "output_type": "execute_result"
    }
   ],
   "source": [
    "grid_search.fit(x,y)"
   ]
  },
  {
   "cell_type": "code",
   "execution_count": 16,
   "id": "d414c199-a70a-4fa0-b666-a173a097cb86",
   "metadata": {},
   "outputs": [
    {
     "name": "stdout",
     "output_type": "stream",
     "text": [
      "Best hyperparameters:  {'LR__C': 1, 'LR__class_weight': 'balanced', 'LR__max_iter': 90, 'LR__penalty': 'l2', 'LR__solver': 'liblinear'}\n",
      "Mean train score:  0.7466820085413302\n",
      "Mean test score:  0.7388864329479389\n"
     ]
    }
   ],
   "source": [
    "print(\"Best hyperparameters: \", grid_search.best_params_)\n",
    "print(\"Mean train score: \", grid_search.cv_results_[\"mean_train_score\"].mean())\n",
    "print(\"Mean test score: \", grid_search.cv_results_[\"mean_test_score\"].mean())"
   ]
  },
  {
   "cell_type": "code",
   "execution_count": 17,
   "id": "db40c47c-b26d-48aa-8d4d-4617db306770",
   "metadata": {},
   "outputs": [],
   "source": [
    "final_model = grid_search.best_estimator_"
   ]
  },
  {
   "cell_type": "code",
   "execution_count": 18,
   "id": "63da87b4-f06a-41a8-b6c1-55642e10e6ce",
   "metadata": {},
   "outputs": [
    {
     "data": {
      "text/plain": [
       "['input_features.pkl']"
      ]
     },
     "execution_count": 18,
     "metadata": {},
     "output_type": "execute_result"
    }
   ],
   "source": [
    "joblib.dump(final_model , \"best_model.pkl\")\n",
    "joblib.dump(x.columns , \"input_features.pkl\")"
   ]
  },
  {
   "cell_type": "code",
   "execution_count": 19,
   "id": "caff293a-2bc5-4e0a-8637-88d57e620b49",
   "metadata": {},
   "outputs": [
    {
     "data": {
      "text/plain": [
       "count    7.588000e+03\n",
       "mean     4.597674e+07\n",
       "std      1.369451e+08\n",
       "min     -1.580311e+08\n",
       "25%     -1.257080e+07\n",
       "50%      1.972180e+06\n",
       "75%      4.277896e+07\n",
       "max      1.947484e+09\n",
       "Name: net_profit, dtype: float64"
      ]
     },
     "execution_count": 19,
     "metadata": {},
     "output_type": "execute_result"
    }
   ],
   "source": [
    "x.net_profit.describe()"
   ]
  },
  {
   "cell_type": "code",
   "execution_count": 20,
   "id": "66756fa0-2fb5-4d8b-9cab-8097b83cb70f",
   "metadata": {},
   "outputs": [
    {
     "name": "stdout",
     "output_type": "stream",
     "text": [
      "Overwriting streamlit_app.py\n"
     ]
    }
   ],
   "source": [
    "%%writefile streamlit_app.py    \n",
    "\n",
    "# importing libraries\n",
    "import streamlit as st\n",
    "import pandas as pd \n",
    "import joblib\n",
    "import sklearn\n",
    "import xgboost\n",
    "import category_encoders\n",
    "\n",
    "# loading saved input features and model\n",
    "Inputs = joblib.load(\"input_features.pkl\")\n",
    "Model = joblib.load(\"best_model.pkl\")\n",
    "\n",
    "# function to make predictions\n",
    "def prediction(rating, genre, year, month, votes, country, budget, gross, runtime, net_profit):\n",
    "    # creating a test dataframe with the required columns\n",
    "    test_df = pd.DataFrame(columns = Inputs)\n",
    "    # assigning input values to the respective columns\n",
    "    test_df.at[0 , \"rating\"] = rating\n",
    "    test_df.at[0 , \"genre\"] = \", \".join(genre)\n",
    "    test_df.at[0 , \"year\"] = year\n",
    "    test_df.at[0 , \"month\"] = month\n",
    "    test_df.at[0 , \"votes\"] = votes\n",
    "    test_df.at[0 , \"country\"] = country\n",
    "    test_df.at[0 , \"budget\"] = budget\n",
    "    test_df.at[0 , \"gross\"] = gross\n",
    "    test_df.at[0 , \"runtime\"] = runtime\n",
    "    test_df.at[0 , \"net_profit\"] = net_profit\n",
    "    # making prediction using the loaded model\n",
    "    result = Model.predict(test_df)[0]\n",
    "    return result\n",
    "\n",
    "# main function to create the Streamlit app\n",
    "def main():\n",
    "    # setting the app title\n",
    "    st.title(\"Movie Success Predictor\")\n",
    "    # creating input widgets for user input\n",
    "    rating = st.radio(\"Rating\" , ['Adults', 'Adults Guidance', 'All Audiance', 'Not Rated'])\n",
    "    genre = st.multiselect(\"Genre\" , ['Drama', 'Adventure', 'Action', 'Comedy', 'Horror', 'Biography',\n",
    "       'Crime', 'Other', 'Animation'])\n",
    "    votes = st.slider(\"Votes\" , min_value = 0 , max_value = 2400000 , value = 0 ,step = 100)\n",
    "    year = st.slider(\"Year\" , min_value = 1980 , max_value = 2020 , value = 0 ,step = 1)\n",
    "    month = st.slider(\"Month\" , min_value = 1 , max_value = 12 , value = 0 ,step = 1)\n",
    "    country = st.selectbox(\"Country\" ,['United Kingdom', 'United States', 'Other', 'Canada', 'France',\n",
    "       'Germany'] )\n",
    "    budget = st.slider( \"Budget\" , min_value = 3000 , max_value = 356000000 , value = 0 , step = 1000)\n",
    "    gross = st.slider( \"Gross\" , min_value = 309 , max_value = 356000000 , value = 0 , step = 1000)\n",
    "    runtime = st.slider( \"Runtime\" , min_value = 63 , max_value = 366 , value = 0 , step = 5)\n",
    "    net_profit = st.slider( \"Net Profit\" , min_value = -158031100 , max_value = 1947484000  , value = -159031100 , step = 10000)\n",
    "    # predict button\n",
    "    if st.button(\"Predict\"):\n",
    "        # calling the prediction function with user inputs\n",
    "        results = prediction(rating, genre, year, month,  votes, country, budget, gross, runtime, net_profit)\n",
    "        label = [\"Unsuccessful\" , \"Successful\"]\n",
    "        st.text(f\"The Movie will be {label[results]}.\")\n",
    "        \n",
    "if __name__ == '__main__':\n",
    "    main()    \n",
    "    "
   ]
  },
  {
   "cell_type": "code",
   "execution_count": null,
   "id": "b71e2f1e-73e9-4613-8ceb-169a20d2a752",
   "metadata": {},
   "outputs": [],
   "source": [
    "!streamlit run streamlit_app.py"
   ]
  },
  {
   "cell_type": "code",
   "execution_count": null,
   "id": "11707ca0-edbc-49e1-970e-f32263c6fa0a",
   "metadata": {},
   "outputs": [],
   "source": []
  }
 ],
 "metadata": {
  "kernelspec": {
   "display_name": "Python 3 (ipykernel)",
   "language": "python",
   "name": "python3"
  },
  "language_info": {
   "codemirror_mode": {
    "name": "ipython",
    "version": 3
   },
   "file_extension": ".py",
   "mimetype": "text/x-python",
   "name": "python",
   "nbconvert_exporter": "python",
   "pygments_lexer": "ipython3",
   "version": "3.9.15"
  }
 },
 "nbformat": 4,
 "nbformat_minor": 5
}
